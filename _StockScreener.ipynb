{
  "nbformat": 4,
  "nbformat_minor": 0,
  "metadata": {
    "colab": {
      "provenance": []
    },
    "kernelspec": {
      "name": "python3",
      "display_name": "Python 3"
    },
    "language_info": {
      "name": "python"
    }
  },
  "cells": [
    {
      "cell_type": "code",
      "execution_count": null,
      "metadata": {
        "colab": {
          "base_uri": "https://localhost:8080/"
        },
        "id": "d2ZEhME3MCUb",
        "outputId": "2fd639a4-1140-4979-8b0d-dcc605408f8f"
      },
      "outputs": [
        {
          "output_type": "stream",
          "name": "stdout",
          "text": [
            "Requirement already satisfied: yfinance in /usr/local/lib/python3.10/dist-packages (0.2.42)\n",
            "Requirement already satisfied: pandas>=1.3.0 in /usr/local/lib/python3.10/dist-packages (from yfinance) (2.1.4)\n",
            "Requirement already satisfied: numpy>=1.16.5 in /usr/local/lib/python3.10/dist-packages (from yfinance) (1.26.4)\n",
            "Requirement already satisfied: requests>=2.31 in /usr/local/lib/python3.10/dist-packages (from yfinance) (2.32.3)\n",
            "Requirement already satisfied: multitasking>=0.0.7 in /usr/local/lib/python3.10/dist-packages (from yfinance) (0.0.11)\n",
            "Requirement already satisfied: lxml>=4.9.1 in /usr/local/lib/python3.10/dist-packages (from yfinance) (4.9.4)\n",
            "Requirement already satisfied: platformdirs>=2.0.0 in /usr/local/lib/python3.10/dist-packages (from yfinance) (4.2.2)\n",
            "Requirement already satisfied: pytz>=2022.5 in /usr/local/lib/python3.10/dist-packages (from yfinance) (2024.1)\n",
            "Requirement already satisfied: frozendict>=2.3.4 in /usr/local/lib/python3.10/dist-packages (from yfinance) (2.4.4)\n",
            "Requirement already satisfied: peewee>=3.16.2 in /usr/local/lib/python3.10/dist-packages (from yfinance) (3.17.6)\n",
            "Requirement already satisfied: beautifulsoup4>=4.11.1 in /usr/local/lib/python3.10/dist-packages (from yfinance) (4.12.3)\n",
            "Requirement already satisfied: html5lib>=1.1 in /usr/local/lib/python3.10/dist-packages (from yfinance) (1.1)\n",
            "Requirement already satisfied: soupsieve>1.2 in /usr/local/lib/python3.10/dist-packages (from beautifulsoup4>=4.11.1->yfinance) (2.6)\n",
            "Requirement already satisfied: six>=1.9 in /usr/local/lib/python3.10/dist-packages (from html5lib>=1.1->yfinance) (1.16.0)\n",
            "Requirement already satisfied: webencodings in /usr/local/lib/python3.10/dist-packages (from html5lib>=1.1->yfinance) (0.5.1)\n",
            "Requirement already satisfied: python-dateutil>=2.8.2 in /usr/local/lib/python3.10/dist-packages (from pandas>=1.3.0->yfinance) (2.8.2)\n",
            "Requirement already satisfied: tzdata>=2022.1 in /usr/local/lib/python3.10/dist-packages (from pandas>=1.3.0->yfinance) (2024.1)\n",
            "Requirement already satisfied: charset-normalizer<4,>=2 in /usr/local/lib/python3.10/dist-packages (from requests>=2.31->yfinance) (3.3.2)\n",
            "Requirement already satisfied: idna<4,>=2.5 in /usr/local/lib/python3.10/dist-packages (from requests>=2.31->yfinance) (3.7)\n",
            "Requirement already satisfied: urllib3<3,>=1.21.1 in /usr/local/lib/python3.10/dist-packages (from requests>=2.31->yfinance) (2.0.7)\n",
            "Requirement already satisfied: certifi>=2017.4.17 in /usr/local/lib/python3.10/dist-packages (from requests>=2.31->yfinance) (2024.7.4)\n"
          ]
        }
      ],
      "source": [
        "!pip install yfinance"
      ]
    },
    {
      "cell_type": "code",
      "source": [],
      "metadata": {
        "id": "7e2o1a8pMF3s"
      },
      "execution_count": null,
      "outputs": []
    },
    {
      "cell_type": "markdown",
      "source": [
        "# SCREENERS."
      ],
      "metadata": {
        "id": "VwNyfvooMIDs"
      }
    },
    {
      "cell_type": "code",
      "source": [
        "import yfinance as yf\n",
        "import numpy as np\n",
        "import pandas as pd\n",
        "import warnings"
      ],
      "metadata": {
        "id": "PDwxg8hSMMMk"
      },
      "execution_count": null,
      "outputs": []
    },
    {
      "cell_type": "code",
      "source": [
        "# suppress all warnings\n",
        "warnings.filterwarnings('ignore')\n",
        "\n",
        "# stocks list to check\n",
        "stock_symbols = [\"AAPL\",\"NVDA\",\"MSFT\",\"AVGO\",\"AMZM\",\"META\",\"TSLA\",\"COST\",\n",
        "                 \"GOOGL\",\"GOOG\",\"NFLX\",\"AMD\",\"ADBE\",\"PEP\",\"TMUS\",\"LIN\",\n",
        "                 \"CSCO\",\"QCOM\",\"TXN\",\"AMGN\"]\n",
        "\n",
        "def check_conditions(df):\n",
        "    \"\"\" Check if high[4] is higher than high[3], high[2], and high[1]\n",
        "        and if low[4] is lower than low[3], low[2], and low[1] \"\"\"\n",
        "    # ensure there are at least 5 days of data\n",
        "    if len(df) < 5:\n",
        "        return False\n",
        "\n",
        "    # extract relevant columns\n",
        "    high = df['High']\n",
        "    low = df['Low']\n",
        "\n",
        "    # define the values for the conditions\n",
        "    high_2 = high.iloc[2]\n",
        "    high_1 = high.iloc[1]\n",
        "    low_2 = low.iloc[2]\n",
        "    low_1 = low.iloc[1]\n",
        "\n",
        "    # check the conditions\n",
        "    condition1 = high_2 > high_1\n",
        "    condition2 = low_2 < low_1\n",
        "\n",
        "    return condition1 and condition2\n",
        "\n",
        "def main():\n",
        "    results = []\n",
        "    for symbol in stock_symbols:\n",
        "        print(f\"Processing {symbol}...\")\n",
        "        try:\n",
        "            # fetch historical data\n",
        "            df = yf.download(symbol, period='1mo', interval='1wk')  # Use 1mo to ensure sufficient data\n",
        "\n",
        "            # check if the stock meets the conditions\n",
        "            if check_conditions(df):\n",
        "                results.append(symbol)\n",
        "        except Exception as e:\n",
        "            print(f\"Error processing {symbol}: {e}\")\n",
        "\n",
        "    if results:\n",
        "        print(\"Stocks meeting the criteria:\", results)\n",
        "    else:\n",
        "        print(\"No stocks meet the criteria.\")\n",
        "\n",
        "if __name__ == \"__main__\":\n",
        "    main()\n"
      ],
      "metadata": {
        "colab": {
          "base_uri": "https://localhost:8080/"
        },
        "id": "RoFZnOl2MO3y",
        "outputId": "389ab775-8891-45d1-fa46-32c957f2b79b"
      },
      "execution_count": null,
      "outputs": [
        {
          "output_type": "stream",
          "name": "stderr",
          "text": [
            "[*********************100%***********************]  1 of 1 completed\n",
            "[*********************100%***********************]  1 of 1 completed\n",
            "[*********************100%***********************]  1 of 1 completed\n",
            "[*********************100%***********************]  1 of 1 completed"
          ]
        },
        {
          "output_type": "stream",
          "name": "stdout",
          "text": [
            "Processing AAPL...\n",
            "Processing NVDA...\n",
            "Processing MSFT...\n",
            "Processing AVGO...\n",
            "Processing AMZM...\n"
          ]
        },
        {
          "output_type": "stream",
          "name": "stderr",
          "text": [
            "\n",
            "[*********************100%***********************]  1 of 1 completed\n",
            "ERROR:yfinance:\n",
            "1 Failed download:\n",
            "ERROR:yfinance:['AMZM']: YFPricesMissingError('$%ticker%: possibly delisted; no price data found  (period=1mo) (Yahoo error = \"No data found, symbol may be delisted\")')\n",
            "[*********************100%***********************]  1 of 1 completed\n",
            "[*********************100%***********************]  1 of 1 completed\n",
            "[*********************100%***********************]  1 of 1 completed\n",
            "[*********************100%***********************]  1 of 1 completed"
          ]
        },
        {
          "output_type": "stream",
          "name": "stdout",
          "text": [
            "Processing META...\n",
            "Processing TSLA...\n",
            "Processing COST...\n",
            "Processing GOOGL...\n",
            "Processing GOOG...\n"
          ]
        },
        {
          "output_type": "stream",
          "name": "stderr",
          "text": [
            "\n",
            "[*********************100%***********************]  1 of 1 completed\n",
            "[*********************100%***********************]  1 of 1 completed\n",
            "[*********************100%***********************]  1 of 1 completed\n",
            "[*********************100%***********************]  1 of 1 completed\n"
          ]
        },
        {
          "output_type": "stream",
          "name": "stdout",
          "text": [
            "Processing NFLX...\n",
            "Processing AMD...\n",
            "Processing ADBE...\n",
            "Processing PEP...\n"
          ]
        },
        {
          "output_type": "stream",
          "name": "stderr",
          "text": [
            "[*********************100%***********************]  1 of 1 completed\n",
            "[*********************100%***********************]  1 of 1 completed\n",
            "[*********************100%***********************]  1 of 1 completed\n",
            "[*********************100%***********************]  1 of 1 completed\n",
            "[*********************100%***********************]  1 of 1 completed\n"
          ]
        },
        {
          "output_type": "stream",
          "name": "stdout",
          "text": [
            "Processing TMUS...\n",
            "Processing LIN...\n",
            "Processing CSCO...\n",
            "Processing QCOM...\n",
            "Processing TXN...\n"
          ]
        },
        {
          "output_type": "stream",
          "name": "stderr",
          "text": [
            "[*********************100%***********************]  1 of 1 completed\n",
            "[*********************100%***********************]  1 of 1 completed"
          ]
        },
        {
          "output_type": "stream",
          "name": "stdout",
          "text": [
            "Processing AMGN...\n",
            "Stocks meeting the criteria: ['CSCO']\n"
          ]
        },
        {
          "output_type": "stream",
          "name": "stderr",
          "text": [
            "\n"
          ]
        }
      ]
    },
    {
      "cell_type": "code",
      "source": [],
      "metadata": {
        "id": "VSd1jpdNOzvL"
      },
      "execution_count": null,
      "outputs": []
    }
  ]
}