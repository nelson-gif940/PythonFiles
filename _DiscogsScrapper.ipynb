{
 "cells": [
  {
   "cell_type": "markdown",
   "metadata": {},
   "source": [
    "# DISCOGS SCRAPPER"
   ]
  },
  {
   "cell_type": "markdown",
   "metadata": {},
   "source": [
    "_Scraps discogs wishlist from user to find the seller who has the most items_"
   ]
  },
  {
   "cell_type": "code",
   "execution_count": 1,
   "metadata": {},
   "outputs": [],
   "source": [
    "import numpy as np\n",
    "import urllib.request\n",
    "import html   \n",
    "from operator import itemgetter\n",
    "from itertools import groupby\n",
    "import urllib"
   ]
  },
  {
   "cell_type": "markdown",
   "metadata": {},
   "source": [
    "1. get url for wantlist from username"
   ]
  },
  {
   "cell_type": "code",
   "execution_count": 49,
   "metadata": {},
   "outputs": [],
   "source": [
    "def wantlist(username):\n",
    "    #username : username\n",
    "    #RETURN : url as string\n",
    "    \n",
    "    \n",
    "    a='https://www.discogs.com/sell/mywants?sort=listed%2Cdesc&limit=250&ev=wfs&user='+str(username)\n",
    "\n",
    "    return a"
   ]
  },
  {
   "cell_type": "markdown",
   "metadata": {},
   "source": [
    "2. explore html page"
   ]
  },
  {
   "cell_type": "code",
   "execution_count": 39,
   "metadata": {},
   "outputs": [],
   "source": [
    "def get_array_mult(url):\n",
    "    \n",
    "    count=0\n",
    "    \n",
    "    url0 = url + '&page=1'\n",
    "    \n",
    "    #-------- get html code -----------#\n",
    "    \n",
    "    fp = urllib.request.Request(url0,headers={'User-Agent': 'Chrome'})\n",
    "    ab = urllib.request.urlopen(fp)\n",
    "    mybytes = ab.read()\n",
    "\n",
    "    mystr = mybytes.decode(\"utf8\")\n",
    "    \n",
    "    \n",
    "    # ----------- num page ----------- #\n",
    "    \n",
    "    index_num=[i for i in range(len(mystr)) if mystr.startswith('250 of', i)]\n",
    "    \n",
    "    z=mystr[index_num[0]:index_num[0]+150]\n",
    "        \n",
    "    start = '250 of '\n",
    "    end = '    </strong>'\n",
    "\n",
    "    num_pages=z[z.find(start)+len(start):z.rfind(end)]\n",
    "    \n",
    "    print(num_pages)\n",
    "    \n",
    "    pages_num=int(num_pages.replace(',',''))//250+1\n",
    "    \n",
    "    # ------------------ listing -------------- #\n",
    "    \n",
    "    list_=[]\n",
    "    \n",
    "    print('number of pages ----- >',pages_num)\n",
    "    \n",
    "    for k in range(pages_num): \n",
    "        \n",
    "        url_1 = url+'&page='+str(k+1)\n",
    "        \n",
    "        print(url_1)\n",
    "                \n",
    "        #-------- get html code -----------#\n",
    "    \n",
    "        fp_1 = urllib.request.Request(url_1,headers={'User-Agent': 'Chrome'})\n",
    "        ab_1 = urllib.request.urlopen(fp)\n",
    "        mybytes = ab_1.read()\n",
    "        \n",
    "\n",
    "        mystr = mybytes.decode(\"utf8\")\n",
    "        \n",
    "        \n",
    "        index_vendor  = [i for i in range(len(mystr)) if mystr.startswith('<strong><a href=\"/seller/', i)]\n",
    "        index_name= [i for i in range(len(mystr)) if mystr.startswith('item_description_title', i)]\n",
    "\n",
    "\n",
    "        print(len(index_name),len(index_vendor))\n",
    "\n",
    "        # ----------- list ----------- #\n",
    "\n",
    "        for i in range(len(index_name)):\n",
    "\n",
    "            s=mystr[index_name[i]:index_name[i]+100]\n",
    "\n",
    "            start = '>'\n",
    "            end = '</a>'\n",
    "\n",
    "            name=s[s.find(start)+len(start):s.rfind(end)]\n",
    "\n",
    "            x=mystr[index_vendor[i]+20:index_vendor[i]+45]\n",
    "\n",
    "            start = 'ler/'\n",
    "            end = '/prof'\n",
    "\n",
    "            seller=x[x.find(start)+len(start):x.rfind(end)]\n",
    "\n",
    "            list_.append([seller,name])\n",
    "\n",
    "            count=count+1\n",
    "        # -------------- kick the double ------------ #\n",
    "\n",
    "    list_ = [x for n, x in enumerate(list_) if x not in list_[:n]]\n",
    "        \n",
    "    print('Element added : ',count)\n",
    "    return(list_)    \n",
    "        "
   ]
  },
  {
   "cell_type": "markdown",
   "metadata": {},
   "source": [
    "3. Testing with nerxunwaer"
   ]
  },
  {
   "cell_type": "code",
   "execution_count": 50,
   "metadata": {},
   "outputs": [
    {
     "name": "stdout",
     "output_type": "stream",
     "text": [
      "430\n",
      "number of pages ----- > 2\n",
      "https://www.discogs.com/sell/mywants?sort=listed%2Cdesc&limit=250&ev=wfs&user=nerxunwaer&page=1\n",
      "250 250\n",
      "https://www.discogs.com/sell/mywants?sort=listed%2Cdesc&limit=250&ev=wfs&user=nerxunwaer&page=2\n",
      "250 250\n",
      "Element added :  500\n"
     ]
    }
   ],
   "source": [
    "list_test=get_array_mult(wantlist('nerxunwaer'))"
   ]
  },
  {
   "cell_type": "markdown",
   "metadata": {},
   "source": [
    "4. Group element then search the index, count every instance, then apply"
   ]
  },
  {
   "cell_type": "code",
   "execution_count": 41,
   "metadata": {},
   "outputs": [],
   "source": [
    "def result(list_):\n",
    "    #return the list with the result\n",
    "    list_res=[]\n",
    "    for grp, elmts in groupby(list_, itemgetter(0)):\n",
    "        list_res.append((grp, len(list(elmts))))\n",
    "    list_res=sorted(list_res,key=itemgetter(1),reverse=True)\n",
    "    return list_res"
   ]
  },
  {
   "cell_type": "code",
   "execution_count": 42,
   "metadata": {},
   "outputs": [],
   "source": [
    "def search_list(string, list_,lenght):\n",
    "    #return the index of the searched string\n",
    "    \n",
    "    index = -1\n",
    "    \n",
    "    for k in range(lenght):\n",
    "        \n",
    "        if str(list_[k][0])==string : \n",
    "            \n",
    "            index=k\n",
    "            \n",
    "            break\n",
    "\n",
    "    return index      "
   ]
  },
  {
   "cell_type": "code",
   "execution_count": 44,
   "metadata": {},
   "outputs": [],
   "source": [
    "def super_count_vynil(list_finale):\n",
    "    # ---- count & save each instance, return list of triple #\n",
    "    \n",
    "    list_hello=[]\n",
    "\n",
    "    for k in range(len(list_finale)): \n",
    "\n",
    "        index = search_list(str(list_finale[k][0]),list_hello,len(list_hello))\n",
    "\n",
    "        if index==-1: \n",
    "\n",
    "            list_hello.append([list_finale[k][0],1, [list_finale[k][1]]])\n",
    "\n",
    "        if index>-1:\n",
    "\n",
    "            list_hello[index][1]=list_hello[index][1]+1\n",
    "\n",
    "            list_hello[index][2].append(list_finale[k][1])\n",
    "        \n",
    "    return list_hello"
   ]
  },
  {
   "cell_type": "code",
   "execution_count": 52,
   "metadata": {},
   "outputs": [],
   "source": [
    "a=super_count_vynil(list_test)"
   ]
  },
  {
   "cell_type": "markdown",
   "metadata": {},
   "source": [
    "5. Sort the result and results"
   ]
  },
  {
   "cell_type": "code",
   "execution_count": null,
   "metadata": {},
   "outputs": [],
   "source": [
    "def sort_list(list_): \n",
    "    \n",
    "    #return the sorted list for index [1]\n",
    "    \n",
    "    big_list=[]\n",
    "    \n",
    "    for k in range(len(list_)):\n",
    "        \n",
    "        big_list.append((list_[k][1],k))\n",
    "    \n",
    "    big_list=sorted(big_list,reverse=True)\n",
    "    \n",
    "    new_list=[]\n",
    "    \n",
    "    for k in range(len(list_)):\n",
    "        \n",
    "        ind=big_list[k][1]\n",
    "        \n",
    "        new_list.append(list_[ind])\n",
    "    \n",
    "    return new_list"
   ]
  },
  {
   "cell_type": "code",
   "execution_count": 47,
   "metadata": {},
   "outputs": [
    {
     "data": {
      "text/plain": [
       "[['recordsale-de',\n",
       "  3,\n",
       "  ['Head High - Megatrap (2x12\")',\n",
       "   'Various - Remix Culture 155 (2x12\")',\n",
       "   'Crustation - Flame (12\")']],\n",
       " ['SandkastenVinylstor',\n",
       "  3,\n",
       "  ['Head High - Megatrap (2x12\")',\n",
       "   'Leon Vynehall - Music For The Uninvited  (CD, Album)',\n",
       "   'Crustation - Flame (12\", Single, Ltd, RE)']],\n",
       " ['Drogadiscos',\n",
       "  2,\n",
       "  ['Andronicus - Make You Whole (12\")',\n",
       "   'Andronicus - Make You Whole (12\", Promo)']],\n",
       " ['tammy731605',\n",
       "  2,\n",
       "  ['Andronicus - Make You Whole (12\", Gen)',\n",
       "   'Andronicus - Make You Whole (12\")']],\n",
       " ['DELAROSA_PLASTICS/p',\n",
       "  2,\n",
       "  ['Soul II Soul - Pleasure Dome (Booker T Mixes) (12\", ',\n",
       "   'Andronicus - Make You Whole (Remixes) (2x12\")']],\n",
       " ['decks.de',\n",
       "  2,\n",
       "  ['Leon Vynehall - Music For The Uninvited  (CD, Album)',\n",
       "   'Leon Vynehall - Nothing Is Still (CD, Album)']],\n",
       " ['r.brown600',\n",
       "  2,\n",
       "  ['Andronicus - Make You Whole (12\")', 'Crustation - Flame (2x12\", Promo)']],\n",
       " ['alain.v2',\n",
       "  2,\n",
       "  ['Leon Vynehall - Music For The Uninvited  (2x12\", Alb',\n",
       "   'Head High - Megatrap (2x12\")']],\n",
       " ['oliebab',\n",
       "  2,\n",
       "  ['Leon Vynehall - Music For The Uninvited  (2x12\", Alb',\n",
       "   'Head High - Megatrap (2x12\")']],\n",
       " ['microsillons.fr',\n",
       "  2,\n",
       "  ['Leon Vynehall - Music For The Uninvited  (2x12\", Alb',\n",
       "   'Crustation - Flame (12\", Single, Ltd, RE)']]]"
      ]
     },
     "execution_count": 47,
     "metadata": {},
     "output_type": "execute_result"
    }
   ],
   "source": [
    "sort_list(a)[0:10]"
   ]
  }
 ],
 "metadata": {
  "kernelspec": {
   "display_name": "Python 3",
   "language": "python",
   "name": "python3"
  },
  "language_info": {
   "codemirror_mode": {
    "name": "ipython",
    "version": 3
   },
   "file_extension": ".py",
   "mimetype": "text/x-python",
   "name": "python",
   "nbconvert_exporter": "python",
   "pygments_lexer": "ipython3",
   "version": "3.8.5"
  }
 },
 "nbformat": 4,
 "nbformat_minor": 4
}
